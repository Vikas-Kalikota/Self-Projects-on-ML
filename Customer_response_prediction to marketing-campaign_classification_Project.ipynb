{
 "cells": [
  {
   "cell_type": "markdown",
   "metadata": {},
   "source": [
    "### Prediction of Customer Response to a marketing campaign\n",
    "\n",
    "o   The data is related with direct marketing campaigns of a Portuguese banking institution,classification goal is to predict if the client will subscribe a term deposit or not given the customer information as input varibles\n",
    " \n",
    "o   This self project aims at classification using various methods such as logistic regression, KNN, decision trees and Random Forest do the model diagnostics using various metrics.\n",
    "\n",
    "o   Firstly, Exploratory data analysis is performed to know the information regarding the data and then data pre-processing is done. Outlier's detection is done using Box Plots. As the data is imbalnced resampling technique is used to get the train data.\n",
    "\n",
    "o   Implemented models and checked for various evaluation metrics confusion matrix and AUC under ROC\n",
    "\n",
    "o   Performed exploratory data analysis for outlier’s detection and used resampling technique to deal with imbalanced data\n",
    "\n",
    "o   Solved binary classification problem using various supervised machine learning methods such as logistic regression, KNN, decision tree, and ensemble learning algorithm Random Forest, and also compared the evaluation metrics\n",
    "\n",
    "o   Employed Grid-search technique to configure best parameters with AUC under ROC as metric and trained the model\n",
    "\n",
    "o\tPlotted gain and lift charts to segregate the customers likely to respond and target these customers for the campaign\n",
    "\n"
   ]
  },
  {
   "cell_type": "code",
   "execution_count": null,
   "metadata": {},
   "outputs": [],
   "source": [
    "#importing useful packages\n",
    "import pandas as pd\n",
    "import numpy as np\n",
    "import matplotlib.pyplot as plt"
   ]
  },
  {
   "cell_type": "markdown",
   "metadata": {},
   "source": [
    "# Exploratory Data Analysis"
   ]
  },
  {
   "cell_type": "code",
   "execution_count": null,
   "metadata": {},
   "outputs": [],
   "source": [
    "#Loading the bank data from UCI machine learning repository [Moro et al., 2011]\n",
    "\n",
    "df = pd.read_csv('bank.csv',sep=';')\n",
    "display(df.info())\n",
    "display(df.head(5))\n"
   ]
  },
  {
   "cell_type": "markdown",
   "metadata": {},
   "source": [
    "4521 observations and total 17 columns (input variables or attributes) are present\n",
    "All the columns are not required to build model we take only the features that can explain the variation of dependent varible\n",
    "Here 'y' refers to the dependent variable it contains info about whether the customer subscibed the term deposit or not\n",
    "Only two output classes are present(\"YES\" or \"NO\")"
   ]
  },
  {
   "cell_type": "code",
   "execution_count": null,
   "metadata": {},
   "outputs": [],
   "source": [
    "#Categorical features and no.of categories in particular column\n",
    "lis=list(df.select_dtypes(include=['object']).columns)\n",
    "for i in lis:\n",
    "    print(i)\n",
    "    display(df[i].value_counts())"
   ]
  },
  {
   "cell_type": "code",
   "execution_count": null,
   "metadata": {},
   "outputs": [],
   "source": [
    "#First we check for null values if any\n",
    "display(df.isnull().values.any())\n",
    "display(df.isnull().sum())\n",
    "#No any null values in the data"
   ]
  },
  {
   "cell_type": "code",
   "execution_count": null,
   "metadata": {},
   "outputs": [],
   "source": [
    "#Dropping the columns of date and month and duration  and pdays as they don't represent the variation in dependent variable\n",
    "new_df=df.drop(['contact','day','month','duration','pdays','poutcome'],axis=1)\n",
    "bank_df=new_df.rename(columns={'housing':'housing-loan','loan':'personal-loan','campaign':'current-campaign','previous':'previous-campaign','y':'subscribed'})\n",
    "bank_df.head(5)"
   ]
  },
  {
   "cell_type": "code",
   "execution_count": null,
   "metadata": {},
   "outputs": [],
   "source": [
    "bank_df.info()\n",
    "count=0\n",
    "for i in range(len(bank_df)):\n",
    "    if bank_df.subscribed[i]==\"yes\":\n",
    "        count+=1\n",
    "print('No.of customers subscribed the term_deposit',count,'out of :',len(bank_df),'customers contacted')"
   ]
  },
  {
   "cell_type": "markdown",
   "metadata": {},
   "source": [
    "#### Outlier Analysis::"
   ]
  },
  {
   "cell_type": "code",
   "execution_count": null,
   "metadata": {},
   "outputs": [],
   "source": [
    "import seaborn as sn\n",
    "display(bank_df[['balance']].boxplot())\n",
    "bank_df.hist(column='balance')"
   ]
  },
  {
   "cell_type": "code",
   "execution_count": null,
   "metadata": {},
   "outputs": [],
   "source": [
    "display(bank_df[['age']].boxplot())\n",
    "bank_df.hist(column='age')"
   ]
  },
  {
   "cell_type": "code",
   "execution_count": null,
   "metadata": {},
   "outputs": [],
   "source": [
    "bank_df[['current-campaign']].boxplot()\n",
    "bank_df.hist(column='current-campaign')\n"
   ]
  },
  {
   "cell_type": "code",
   "execution_count": null,
   "metadata": {},
   "outputs": [],
   "source": [
    "bank_df[['previous-campaign']].boxplot()\n",
    "bank_df.hist(column='previous-campaign')"
   ]
  },
  {
   "cell_type": "markdown",
   "metadata": {},
   "source": [
    "#### IMBALANCED DATA HANDLING::\n",
    "Dealing with imbalance data set as the number of customers subscribed are very less compared to those who didn't subscribe\n",
    "representation of two classes is not equal\n",
    "Bootstrapping Technique to deal with imbalanced data set :Upsampling is done here\n",
    "The other important thing is to shuffle the data after upsampling to remove any pattern"
   ]
  },
  {
   "cell_type": "code",
   "execution_count": null,
   "metadata": {},
   "outputs": [],
   "source": [
    "\n",
    "from sklearn.utils import resample\n",
    "from sklearn.utils import shuffle\n",
    "\n",
    "customers_subscribed= bank_df[bank_df.subscribed =='yes']\n",
    "customers_not_subscribed= bank_df[bank_df.subscribed =='no']\n",
    "##Upsample the subscribed observations.\n",
    "\n",
    "customers_subscribed_upsampled = resample(customers_subscribed,replace=True,n_samples=2000)\n",
    "bank_df_concated=pd.concat([customers_not_subscribed,customers_subscribed_upsampled])\n",
    "\n",
    "bank_df_new=shuffle(bank_df_concated)\n"
   ]
  },
  {
   "cell_type": "code",
   "execution_count": null,
   "metadata": {},
   "outputs": [],
   "source": [
    "bank_df_new.info()"
   ]
  },
  {
   "cell_type": "code",
   "execution_count": null,
   "metadata": {},
   "outputs": [],
   "source": [
    "X_features = list( bank_df_new.columns )\n",
    "X_features.remove('subscribed')\n",
    "X_features\n",
    "#Convert the categorical features to dummies\n",
    "X= pd.get_dummies( bank_df_new[X_features],drop_first = True )\n",
    "X.head(3)"
   ]
  },
  {
   "cell_type": "code",
   "execution_count": null,
   "metadata": {},
   "outputs": [],
   "source": [
    "#Encoding the output categories :yes=>1  and no=>1\n",
    "Y = bank_df_new.subscribed.map( lambda x: int( x == 'yes') )\n"
   ]
  },
  {
   "cell_type": "code",
   "execution_count": null,
   "metadata": {},
   "outputs": [],
   "source": [
    "#Split the data into train and test set:\n",
    "\n",
    "from sklearn.model_selection import train_test_split\n",
    "\n",
    "X_train, X_test, y_train, y_test = train_test_split(X,Y,test_size=0.3,random_state=42)"
   ]
  },
  {
   "cell_type": "markdown",
   "metadata": {},
   "source": [
    "# Logistic Regression Classifier:"
   ]
  },
  {
   "cell_type": "code",
   "execution_count": null,
   "metadata": {},
   "outputs": [],
   "source": [
    "from sklearn.linear_model import LogisticRegression\n",
    "from sklearn import metrics\n",
    "import seaborn as sn\n",
    "\n",
    "logit = LogisticRegression()\n",
    "logit.fit(X_train, y_train)\n",
    "y_pred_log=logit.predict(X_test)\n",
    "\n",
    "cm= metrics.confusion_matrix( y_test, y_pred_log, [1,0] )\n",
    "sn.heatmap(cm, annot=True, fmt='.2f',xticklabels = ['Subscribed', 'Not Subscribed'],\n",
    "           yticklabels = ['Subscribed', 'Not Subscribed'] )"
   ]
  },
  {
   "cell_type": "code",
   "execution_count": null,
   "metadata": {},
   "outputs": [],
   "source": [
    "#Classification report\n",
    "print(metrics.classification_report( y_test, y_pred_log ) )"
   ]
  },
  {
   "cell_type": "code",
   "execution_count": null,
   "metadata": {},
   "outputs": [],
   "source": [
    "#ROC curve and Area under ROC\n",
    "predict_proba_df = pd.DataFrame( logit.predict_proba(X_test) )\n",
    "display(predict_proba_df.head(3))\n",
    "\n",
    "df_prob=pd.DataFrame({'actual':y_test})\n",
    "df_prob=df_prob.reset_index()\n",
    "df_prob['prob_of_1']=predict_proba_df.iloc[:,1:2]\n",
    "display(df_prob.head(10))\n",
    "\n",
    "auc_score = metrics.roc_auc_score(df_prob.actual,df_prob.prob_of_1)\n",
    "\n",
    "fpr, tpr, thresholds = metrics.roc_curve( df_prob.actual,df_prob.prob_of_1,drop_intermediate =False )\n",
    "plt.plot(fpr, tpr, label = 'ROC curve (area = %0.2f)' % auc_score)\n",
    "plt.plot([0, 1], [0, 1], 'k--')\n",
    "plt.xlim([0.0, 1.0])\n",
    "plt.ylim([0.0, 1.05])\n",
    "\n",
    "print('Area under ROC:',round( float( auc_score ), 2 ))"
   ]
  },
  {
   "cell_type": "markdown",
   "metadata": {},
   "source": [
    "#### Gain and Lift Charts"
   ]
  },
  {
   "cell_type": "code",
   "execution_count": null,
   "metadata": {},
   "outputs": [],
   "source": [
    "df_n=df_prob.sort_values('prob_of_1',ascending=False)\n",
    "df_n.head(3)\n",
    "#divide the data into deciles\n",
    "df_n['decile']=1\n",
    "idx=0\n",
    "for i in range(1,11):\n",
    "    lim=(len(df_n)//10)*i\n",
    "    while(idx<lim):\n",
    "        df_n.iloc[idx,3]=i\n",
    "        idx+=1\n",
    "df_n.head(5)    \n",
    "gain_df=pd.DataFrame(df_n.groupby('decile')['actual'].sum())\n",
    "gain_df.reset_index()\n",
    "gain_df.columns=['decile','gain']\n"
   ]
  },
  {
   "cell_type": "code",
   "execution_count": null,
   "metadata": {},
   "outputs": [],
   "source": [
    "gain_df['percentage_of_gain']=(gain_df['gain'].cumsum()*100)/gain_df['gain'].sum()\n",
    "display(gain_df)\n",
    "plt.plot(gain_df['decile'],gain_df['percentage_of_gain'])\n",
    "plt.title('Gain_Chart')"
   ]
  },
  {
   "cell_type": "markdown",
   "metadata": {},
   "source": [
    "So from gain chart we can say that if we contact first 6 decile customers we would get 75% of the subscribers.\n",
    "This way we can target the customers who are most likely to subscribe for a product or service"
   ]
  },
  {
   "cell_type": "code",
   "execution_count": null,
   "metadata": {},
   "outputs": [],
   "source": [
    "gain_df['lift']=gain_df.percentage_of_gain/(gain_df.decile*10)\n",
    "display(gain_df)\n",
    "plt.plot(gain_df['decile'],gain_df['lift'])\n",
    "plt.title('Lift_Chart')\n"
   ]
  },
  {
   "cell_type": "markdown",
   "metadata": {},
   "source": [
    "Lift is the ratio of the number of positive observations up to decile i using the model to the\n",
    "expected number of positives up to that decile i based on a random model (not using a model)\n",
    "We can know upto how much decile the lift value is feasible\n"
   ]
  },
  {
   "cell_type": "markdown",
   "metadata": {},
   "source": [
    "# KNN-Classifier"
   ]
  },
  {
   "cell_type": "code",
   "execution_count": null,
   "metadata": {},
   "outputs": [],
   "source": [
    "from sklearn.neighbors import KNeighborsClassifier\n",
    "knn_clf= KNeighborsClassifier()\n",
    "knn_clf.fit( X_train, y_train)\n",
    "\n",
    "y_pred_knn=knn_clf.predict(X_test)\n",
    "\n",
    "cm_knn= metrics.confusion_matrix( y_test, y_pred_knn, [1,0] )\n",
    "sn.heatmap(cm_knn, annot=True, fmt='.2f',xticklabels = ['Subscribed', 'Not Subscribed'],\n",
    "           yticklabels = ['Subscribed', 'Not Subscribed'] )"
   ]
  },
  {
   "cell_type": "code",
   "execution_count": null,
   "metadata": {},
   "outputs": [],
   "source": [
    "#Classification report\n",
    "print(metrics.classification_report( y_test, y_pred_knn ) )"
   ]
  },
  {
   "cell_type": "code",
   "execution_count": null,
   "metadata": {},
   "outputs": [],
   "source": [
    "predict_proba_df_knn = pd.DataFrame( knn_clf.predict_proba(X_test) )\n",
    "display(predict_proba_df_knn.head(3))\n",
    "\n",
    "df_prob_knn=pd.DataFrame({'actual':y_test})\n",
    "df_prob_knn=df_prob.reset_index()\n",
    "df_prob_knn['prob_of_1']=predict_proba_df_knn.iloc[:,1:2]\n",
    "df_prob_knn.head(3)\n",
    "\n",
    "fpr_knn, tpr_knn, thresholds_knn = metrics.roc_curve( df_prob_knn.actual,df_prob_knn.prob_of_1,drop_intermediate =False )\n",
    "plt.plot(fpr_knn, tpr_knn, label = 'ROC curve (area = %0.2f)' % auc_score)\n",
    "plt.plot([0, 1], [0, 1], 'k--')\n",
    "plt.xlim([0.0, 1.0])\n",
    "plt.ylim([0.0, 1.05])\n",
    "\n",
    "auc_score_knn = metrics.roc_auc_score(df_prob_knn.actual,df_prob_knn.prob_of_1)\n",
    "print('Area under ROC KNN:',round( float( auc_score_knn ), 2 ))"
   ]
  },
  {
   "cell_type": "markdown",
   "metadata": {},
   "source": [
    "#### Grid Search for best model paramters:"
   ]
  },
  {
   "cell_type": "code",
   "execution_count": null,
   "metadata": {},
   "outputs": [],
   "source": [
    "from sklearn.model_selection import GridSearchCV\n",
    "grid_parameters = [{'n_neighbors': range(5,10),'metric': ['canberra', 'euclidean','minkowski']}]\n",
    "clf = GridSearchCV(KNeighborsClassifier(),grid_parameters,cv=10,scoring='roc_auc')\n",
    "clf.fit(X_train,y_train)\n",
    "clf.best_score_\n"
   ]
  },
  {
   "cell_type": "code",
   "execution_count": null,
   "metadata": {},
   "outputs": [],
   "source": [
    "clf.best_params_"
   ]
  },
  {
   "cell_type": "markdown",
   "metadata": {},
   "source": [
    "# Decision Tree"
   ]
  },
  {
   "cell_type": "code",
   "execution_count": null,
   "metadata": {},
   "outputs": [],
   "source": [
    "from sklearn.tree import DecisionTreeClassifier\n",
    "clf_tree = DecisionTreeClassifier(criterion = 'gini',max_depth = 15)\n",
    "clf_tree.fit( X_train, y_train )\n",
    "tree_predict = clf_tree.predict( X_test )\n",
    "print(metrics.roc_auc_score( y_test, tree_predict ))\n",
    "\n",
    "clf_tree_entropy= DecisionTreeClassifier(criterion = 'entropy',max_depth =15)\n",
    "clf_tree_entropy.fit( X_train, y_train )\n",
    "tree_predict_entropy = clf_tree_entropy.predict( X_test )\n",
    "print(metrics.roc_auc_score( y_test, tree_predict_entropy ))\n",
    "\n",
    "from sklearn.model_selection import GridSearchCV\n",
    "params=[{'criterion':['gini','entropy'],'max_depth':range(2,15)}]\n",
    "clf_tree_best = DecisionTreeClassifier()\n",
    "clf_best = GridSearchCV(clf_tree_best,params,cv=10,scoring='roc_auc')\n",
    "clf_best.fit(X_train, y_train)\n",
    "clf_best.best_score_"
   ]
  },
  {
   "cell_type": "code",
   "execution_count": null,
   "metadata": {},
   "outputs": [],
   "source": [
    "clf_best.best_params_"
   ]
  },
  {
   "cell_type": "markdown",
   "metadata": {},
   "source": [
    "# Random Forest (Ensemble)"
   ]
  },
  {
   "cell_type": "code",
   "execution_count": null,
   "metadata": {},
   "outputs": [],
   "source": [
    "from sklearn.ensemble import RandomForestClassifier\n",
    "rand_forest_clf=RandomForestClassifier(max_depth=15,n_estimators=10)\n",
    "rand_forest_clf.fit(X_train,y_train)\n",
    "y_pred_randf=rand_forest_clf.predict(X_test)\n",
    "print('AUC under ROC random forest:',metrics.roc_auc_score(y_test,y_pred_randf))\n",
    "\n",
    "tuned_parameters = [{'max_depth': [10, 18],'n_estimators': [10,20],'max_features': ['sqrt', 0.2]}]\n",
    "radm_clf = RandomForestClassifier()\n",
    "clf_randf = GridSearchCV(radm_clf,tuned_parameters,cv=5,scoring='roc_auc')\n",
    "clf_randf.fit(X_train,y_train)\n",
    "print('AUC under ROC using BEST MODEL parameters:',clf_randf.best_score_)\n"
   ]
  },
  {
   "cell_type": "code",
   "execution_count": null,
   "metadata": {},
   "outputs": [],
   "source": [
    "clf_randf.best_params_"
   ]
  },
  {
   "cell_type": "code",
   "execution_count": null,
   "metadata": {},
   "outputs": [],
   "source": [
    "clf_rf=RandomForestClassifier(max_depth=18,max_features='sqrt',n_estimators=20)\n",
    "clf_rf.fit(X_train,y_train)\n",
    "y_pred_clf=clf_rf.predict(X_test)\n",
    "\n",
    "predict_proba_df_randf = pd.DataFrame( clf_rf.predict_proba(X_test) )\n",
    "\n",
    "df_prob_randf=pd.DataFrame({'actual':y_test})\n",
    "df_prob_randf=df_prob.reset_index()\n",
    "df_prob_randf['prob_of_1']=predict_proba_df_randf.iloc[:,1:2]\n",
    "df_prob_randf.head(3)\n",
    "\n",
    "fpr_rf, tpr_rf, thresholds_rf = metrics.roc_curve( df_prob_randf.actual,df_prob_randf.prob_of_1,drop_intermediate =False )\n",
    "plt.plot(fpr_rf, tpr_rf, label = 'ROC curve (area = %0.2f)' % auc_score)\n",
    "plt.plot([0, 1], [0, 1], 'k--')\n",
    "plt.xlim([0.0, 1.0])\n",
    "plt.ylim([0.0, 1.05])\n",
    "\n",
    "auc_score_randf= metrics.roc_auc_score(df_prob_randf.actual,df_prob_randf.prob_of_1)\n",
    "print('Area under ROC Random forest best params:',round( float( auc_score_randf), 3))\n",
    "\n"
   ]
  },
  {
   "cell_type": "code",
   "execution_count": null,
   "metadata": {},
   "outputs": [],
   "source": [
    "cm_rf= metrics.confusion_matrix( y_test, y_pred_clf, [1,0] )\n",
    "sn.heatmap(cm_rf, annot=True, fmt='.2f',xticklabels = ['Subscribed', 'Not Subscribed'],\n",
    "           yticklabels = ['Subscribed', 'Not Subscribed'] )"
   ]
  },
  {
   "cell_type": "code",
   "execution_count": null,
   "metadata": {},
   "outputs": [],
   "source": [
    "print( metrics.classification_report( y_test, y_pred_clf ) )"
   ]
  },
  {
   "cell_type": "markdown",
   "metadata": {},
   "source": [
    "#### Feature Importacne values "
   ]
  },
  {
   "cell_type": "code",
   "execution_count": null,
   "metadata": {},
   "outputs": [],
   "source": [
    "feature_imp = pd.DataFrame( { 'feature': X_train.columns,'importance': clf_rf.feature_importances_ } )\n",
    "\n",
    "feature_imp_sorted = feature_imp.sort_values('importance', ascending =False)\n",
    "plt.figure(figsize=(8, 8))\n",
    "# plot the values\n",
    "sn.barplot( y = 'feature', x = 'importance', data = feature_imp_sorted )"
   ]
  },
  {
   "cell_type": "markdown",
   "metadata": {},
   "source": [
    "Hence the fetures 'balance' 'age' 'previous-campaign' and 'current-campaign' are the top 4 features which expalins whether a customer is likely to subscribe the product or service  "
   ]
  },
  {
   "cell_type": "code",
   "execution_count": null,
   "metadata": {},
   "outputs": [],
   "source": []
  }
 ],
 "metadata": {
  "kernelspec": {
   "display_name": "Python 3",
   "language": "python",
   "name": "python3"
  },
  "language_info": {
   "codemirror_mode": {
    "name": "ipython",
    "version": 3
   },
   "file_extension": ".py",
   "mimetype": "text/x-python",
   "name": "python",
   "nbconvert_exporter": "python",
   "pygments_lexer": "ipython3",
   "version": "3.7.1"
  }
 },
 "nbformat": 4,
 "nbformat_minor": 2
}
